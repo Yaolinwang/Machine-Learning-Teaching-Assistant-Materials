{
 "cells": [
  {
   "cell_type": "markdown",
   "metadata": {},
   "source": [
    "## Numpy & Pandas\n",
    "<h3>APANPS4335</h3>\n",
    "Kevin  ( yaolin.wang@columbia.edu )"
   ]
  },
  {
   "cell_type": "markdown",
   "metadata": {},
   "source": [
    "<li>Both of them are useful in python, because lots packages are based on numpy and pandas.</li>\n",
    "<li>Numpy is useful in matrix calculation. You can use this in linear regression.</li>"
   ]
  },
  {
   "cell_type": "code",
   "execution_count": 1,
   "metadata": {
    "collapsed": true
   },
   "outputs": [],
   "source": [
    "import numpy as np"
   ]
  },
  {
   "cell_type": "code",
   "execution_count": 2,
   "metadata": {
    "collapsed": false
   },
   "outputs": [
    {
     "data": {
      "text/plain": [
       "array([[  0.,   1.,   2.,   3.,   4.,   5.],\n",
       "       [ 10.,  11.,  12.,  13.,  14.,  15.],\n",
       "       [ 20.,  21.,  22.,  23.,  24.,  25.]])"
      ]
     },
     "execution_count": 2,
     "metadata": {},
     "output_type": "execute_result"
    }
   ],
   "source": [
    "x=[[0,1,2,3,4,5],[10,11,12,13,14,15],[20,21,22,23,24,25]]\n",
    "ax=np.array(x,float)\n",
    "ax"
   ]
  },
  {
   "cell_type": "code",
   "execution_count": 3,
   "metadata": {
    "collapsed": false
   },
   "outputs": [
    {
     "data": {
      "text/plain": [
       "13.0"
      ]
     },
     "execution_count": 3,
     "metadata": {},
     "output_type": "execute_result"
    }
   ],
   "source": [
    "ax[1,3] #indexing"
   ]
  },
  {
   "cell_type": "code",
   "execution_count": 4,
   "metadata": {
    "collapsed": false
   },
   "outputs": [
    {
     "data": {
      "text/plain": [
       "array([[ 12.,  13.],\n",
       "       [ 22.,  23.]])"
      ]
     },
     "execution_count": 4,
     "metadata": {},
     "output_type": "execute_result"
    }
   ],
   "source": [
    "ax[1:3,2:4] #slicing"
   ]
  },
  {
   "cell_type": "code",
   "execution_count": 5,
   "metadata": {
    "collapsed": false
   },
   "outputs": [
    {
     "data": {
      "text/plain": [
       "(3, 6)"
      ]
     },
     "execution_count": 5,
     "metadata": {},
     "output_type": "execute_result"
    }
   ],
   "source": [
    "ax.shape"
   ]
  },
  {
   "cell_type": "code",
   "execution_count": 9,
   "metadata": {
    "collapsed": false
   },
   "outputs": [
    {
     "data": {
      "text/plain": [
       "array([[  0.,   1.],\n",
       "       [  2.,   3.],\n",
       "       [  4.,   5.],\n",
       "       [ 10.,  11.],\n",
       "       [ 12.,  13.],\n",
       "       [ 14.,  15.],\n",
       "       [ 20.,  21.],\n",
       "       [ 22.,  23.],\n",
       "       [ 24.,  25.]])"
      ]
     },
     "execution_count": 9,
     "metadata": {},
     "output_type": "execute_result"
    }
   ],
   "source": [
    "ax_2=ax.reshape(9,2)\n",
    "ax_2"
   ]
  },
  {
   "cell_type": "code",
   "execution_count": 10,
   "metadata": {
    "collapsed": false
   },
   "outputs": [
    {
     "data": {
      "text/plain": [
       "array([[ 1.,  1.,  1.,  1.,  1.,  1.],\n",
       "       [ 1.,  1.,  1.,  1.,  1.,  1.],\n",
       "       [ 1.,  1.,  1.,  1.,  1.,  1.]])"
      ]
     },
     "execution_count": 10,
     "metadata": {},
     "output_type": "execute_result"
    }
   ],
   "source": [
    "np.ones_like(ax) "
   ]
  },
  {
   "cell_type": "code",
   "execution_count": 11,
   "metadata": {
    "collapsed": false
   },
   "outputs": [
    {
     "data": {
      "text/plain": [
       "array([[ 1.,  0.,  0.],\n",
       "       [ 0.,  1.,  0.],\n",
       "       [ 0.,  0.,  1.]])"
      ]
     },
     "execution_count": 11,
     "metadata": {},
     "output_type": "execute_result"
    }
   ],
   "source": [
    "np.identity(3)   ## unit matrix"
   ]
  },
  {
   "cell_type": "code",
   "execution_count": 12,
   "metadata": {
    "collapsed": false
   },
   "outputs": [
    {
     "data": {
      "text/plain": [
       "array([[  0.,   1.,   2.,   1.,   4.,   1.],\n",
       "       [ 10.,   1.,  12.,   1.,  14.,   1.],\n",
       "       [ 20.,   1.,  22.,   1.,  24.,   1.]])"
      ]
     },
     "execution_count": 12,
     "metadata": {},
     "output_type": "execute_result"
    }
   ],
   "source": [
    "np.where(ax%2==0,ax,1)"
   ]
  },
  {
   "cell_type": "code",
   "execution_count": 18,
   "metadata": {
    "collapsed": false
   },
   "outputs": [
    {
     "name": "stdout",
     "output_type": "stream",
     "text": [
      "12.5    8.34166250416\n"
     ]
    }
   ],
   "source": [
    "print(ax.mean(),'  ',ax.std())"
   ]
  },
  {
   "cell_type": "code",
   "execution_count": 20,
   "metadata": {
    "collapsed": false
   },
   "outputs": [
    {
     "data": {
      "text/plain": [
       "array([[  3.,   4.],\n",
       "       [  5.,   6.],\n",
       "       [  7.,   8.],\n",
       "       [  9.,  10.]])"
      ]
     },
     "execution_count": 20,
     "metadata": {},
     "output_type": "execute_result"
    }
   ],
   "source": [
    "ay=np.array([[3,4],[5,6],[7,8],[9,10]],float)\n",
    "ay"
   ]
  },
  {
   "cell_type": "code",
   "execution_count": 21,
   "metadata": {
    "collapsed": false
   },
   "outputs": [
    {
     "data": {
      "text/plain": [
       "array([[  52.,   59.,   66.,   89.,   96.,  103.,  122.,  129.,  136.],\n",
       "       [  78.,   89.,  100.,  135.,  146.,  157.,  188.,  199.,  210.],\n",
       "       [ 104.,  119.,  134.,  181.,  196.,  211.,  254.,  269.,  284.],\n",
       "       [ 130.,  149.,  168.,  227.,  246.,  265.,  320.,  339.,  358.]])"
      ]
     },
     "execution_count": 21,
     "metadata": {},
     "output_type": "execute_result"
    }
   ],
   "source": [
    "np.dot(ay,ax.reshape(2,9))"
   ]
  },
  {
   "cell_type": "markdown",
   "metadata": {},
   "source": [
    "<li>Use numpy to generate random numbers.</li>"
   ]
  },
  {
   "cell_type": "code",
   "execution_count": 22,
   "metadata": {
    "collapsed": false
   },
   "outputs": [
    {
     "data": {
      "text/plain": [
       "array([ 1.19949682, -0.47946218, -0.5135686 ,  0.02420138,  0.51043532,\n",
       "       -0.43955303,  1.57407914, -0.40932936, -0.72102853, -0.87337217])"
      ]
     },
     "execution_count": 22,
     "metadata": {},
     "output_type": "execute_result"
    }
   ],
   "source": [
    "np.random.normal(size=10)"
   ]
  },
  {
   "cell_type": "code",
   "execution_count": 23,
   "metadata": {
    "collapsed": false
   },
   "outputs": [
    {
     "data": {
      "text/plain": [
       "0.3697118020401744"
      ]
     },
     "execution_count": 23,
     "metadata": {},
     "output_type": "execute_result"
    }
   ],
   "source": [
    "np.random.exponential()"
   ]
  },
  {
   "cell_type": "code",
   "execution_count": 29,
   "metadata": {
    "collapsed": false
   },
   "outputs": [
    {
     "data": {
      "text/plain": [
       "array([[ 0.27464373,  1.853075  ,  0.24386586],\n",
       "       [ 1.32085827,  2.20117544,  0.40731704],\n",
       "       [ 0.90990596,  0.29819856,  0.90049283],\n",
       "       [ 1.51494032,  0.49235058,  0.87137895],\n",
       "       [ 0.36354645,  0.0361819 ,  1.66274631],\n",
       "       [ 0.93800232,  0.40992446,  0.24800519]])"
      ]
     },
     "execution_count": 29,
     "metadata": {},
     "output_type": "execute_result"
    }
   ],
   "source": [
    "np.random.exponential(1.0,size=(6,3))  ## exponential random numbers with parameter equals to 1, in size 6*3"
   ]
  },
  {
   "cell_type": "code",
   "execution_count": 28,
   "metadata": {
    "collapsed": false
   },
   "outputs": [
    {
     "data": {
      "text/plain": [
       "-6"
      ]
     },
     "execution_count": 28,
     "metadata": {},
     "output_type": "execute_result"
    }
   ],
   "source": [
    "np.random.randint(-10,10)  ## random integer in interval (-10,10)"
   ]
  },
  {
   "cell_type": "markdown",
   "metadata": {},
   "source": [
    "<h2>Pandas.</h2>\n",
    "<li>Built in time-series capabilities</li>\n",
    "<li>Powerful data analysis abilities</li>\n",
    "<li>Getting data really really easy!</li>"
   ]
  },
  {
   "cell_type": "code",
   "execution_count": null,
   "metadata": {
    "collapsed": true
   },
   "outputs": [],
   "source": [
    "#installing pandas libraries\n",
    "!pip install pandas-datareader\n",
    "!pip install --upgrade html5lib==1.0b8\n",
    "\n",
    "#There is a bug in the latest version of html5lib so install an earlier version\n",
    "#Restart your Notebook after installing html5lib"
   ]
  },
  {
   "cell_type": "code",
   "execution_count": 5,
   "metadata": {
    "collapsed": true
   },
   "outputs": [],
   "source": [
    "import pandas as pd\n",
    "from pandas_datareader import data\n",
    "%matplotlib inline\n",
    "import numpy as np\n",
    "import matplotlib.pyplot as plt\n",
    "import matplotlib as mp\n",
    "import datetime as dt"
   ]
  },
  {
   "cell_type": "markdown",
   "metadata": {},
   "source": [
    "<li>Use \"read_html\",you can download most tables you want in certain webpage.</li>"
   ]
  },
  {
   "cell_type": "code",
   "execution_count": 6,
   "metadata": {
    "collapsed": false
   },
   "outputs": [
    {
     "data": {
      "text/html": [
       "<div>\n",
       "<table border=\"1\" class=\"dataframe\">\n",
       "  <thead>\n",
       "    <tr style=\"text-align: right;\">\n",
       "      <th></th>\n",
       "      <th>Currency</th>\n",
       "      <th>Value</th>\n",
       "      <th>Change</th>\n",
       "      <th>Net Change</th>\n",
       "      <th>Time (EST)</th>\n",
       "      <th>2 Day</th>\n",
       "    </tr>\n",
       "  </thead>\n",
       "  <tbody>\n",
       "    <tr>\n",
       "      <th>0</th>\n",
       "      <td>EUR-USD</td>\n",
       "      <td>1.0698</td>\n",
       "      <td>-0.0001</td>\n",
       "      <td>-0.01%</td>\n",
       "      <td>4:27 PM</td>\n",
       "      <td>NaN</td>\n",
       "    </tr>\n",
       "    <tr>\n",
       "      <th>1</th>\n",
       "      <td>USD-JPY</td>\n",
       "      <td>113.7600</td>\n",
       "      <td>-1.3400</td>\n",
       "      <td>-1.16%</td>\n",
       "      <td>4:27 PM</td>\n",
       "      <td>NaN</td>\n",
       "    </tr>\n",
       "    <tr>\n",
       "      <th>2</th>\n",
       "      <td>GBP-USD</td>\n",
       "      <td>1.2485</td>\n",
       "      <td>-0.0070</td>\n",
       "      <td>-0.56%</td>\n",
       "      <td>4:27 PM</td>\n",
       "      <td>NaN</td>\n",
       "    </tr>\n",
       "    <tr>\n",
       "      <th>3</th>\n",
       "      <td>AUD-USD</td>\n",
       "      <td>0.7554</td>\n",
       "      <td>0.0003</td>\n",
       "      <td>+0.04%</td>\n",
       "      <td>4:27 PM</td>\n",
       "      <td>NaN</td>\n",
       "    </tr>\n",
       "    <tr>\n",
       "      <th>4</th>\n",
       "      <td>USD-CAD</td>\n",
       "      <td>1.3112</td>\n",
       "      <td>-0.0041</td>\n",
       "      <td>-0.31%</td>\n",
       "      <td>4:27 PM</td>\n",
       "      <td>NaN</td>\n",
       "    </tr>\n",
       "    <tr>\n",
       "      <th>5</th>\n",
       "      <td>USD-CHF</td>\n",
       "      <td>0.9951</td>\n",
       "      <td>-0.0042</td>\n",
       "      <td>-0.42%</td>\n",
       "      <td>4:27 PM</td>\n",
       "      <td>NaN</td>\n",
       "    </tr>\n",
       "    <tr>\n",
       "      <th>6</th>\n",
       "      <td>EUR-JPY</td>\n",
       "      <td>121.7000</td>\n",
       "      <td>-1.4300</td>\n",
       "      <td>-1.16%</td>\n",
       "      <td>4:27 PM</td>\n",
       "      <td>NaN</td>\n",
       "    </tr>\n",
       "    <tr>\n",
       "      <th>7</th>\n",
       "      <td>EUR-GBP</td>\n",
       "      <td>0.8569</td>\n",
       "      <td>0.0043</td>\n",
       "      <td>+0.50%</td>\n",
       "      <td>4:27 PM</td>\n",
       "      <td>NaN</td>\n",
       "    </tr>\n",
       "    <tr>\n",
       "      <th>8</th>\n",
       "      <td>USD-HKD</td>\n",
       "      <td>7.7583</td>\n",
       "      <td>-0.0010</td>\n",
       "      <td>-0.01%</td>\n",
       "      <td>4:27 PM</td>\n",
       "      <td>NaN</td>\n",
       "    </tr>\n",
       "    <tr>\n",
       "      <th>9</th>\n",
       "      <td>EUR-CHF</td>\n",
       "      <td>1.0645</td>\n",
       "      <td>-0.0045</td>\n",
       "      <td>-0.42%</td>\n",
       "      <td>4:27 PM</td>\n",
       "      <td>NaN</td>\n",
       "    </tr>\n",
       "    <tr>\n",
       "      <th>10</th>\n",
       "      <td>USD-KRW</td>\n",
       "      <td>1176.0100</td>\n",
       "      <td>4.9400</td>\n",
       "      <td>+0.42%</td>\n",
       "      <td>1:29 AM</td>\n",
       "      <td>NaN</td>\n",
       "    </tr>\n",
       "  </tbody>\n",
       "</table>\n",
       "</div>"
      ],
      "text/plain": [
       "   Currency      Value  Change Net Change Time (EST)  2 Day\n",
       "0   EUR-USD     1.0698 -0.0001     -0.01%    4:27 PM    NaN\n",
       "1   USD-JPY   113.7600 -1.3400     -1.16%    4:27 PM    NaN\n",
       "2   GBP-USD     1.2485 -0.0070     -0.56%    4:27 PM    NaN\n",
       "3   AUD-USD     0.7554  0.0003     +0.04%    4:27 PM    NaN\n",
       "4   USD-CAD     1.3112 -0.0041     -0.31%    4:27 PM    NaN\n",
       "5   USD-CHF     0.9951 -0.0042     -0.42%    4:27 PM    NaN\n",
       "6   EUR-JPY   121.7000 -1.4300     -1.16%    4:27 PM    NaN\n",
       "7   EUR-GBP     0.8569  0.0043     +0.50%    4:27 PM    NaN\n",
       "8   USD-HKD     7.7583 -0.0010     -0.01%    4:27 PM    NaN\n",
       "9   EUR-CHF     1.0645 -0.0045     -0.42%    4:27 PM    NaN\n",
       "10  USD-KRW  1176.0100  4.9400     +0.42%    1:29 AM    NaN"
      ]
     },
     "execution_count": 6,
     "metadata": {},
     "output_type": "execute_result"
    }
   ],
   "source": [
    "df=pd.read_html('http://www.bloomberg.com/markets/currencies/major',header=0)[0] #Returns a list of data frames, we take the first object in the list.\n",
    "df"
   ]
  },
  {
   "cell_type": "code",
   "execution_count": 7,
   "metadata": {
    "collapsed": false
   },
   "outputs": [
    {
     "data": {
      "text/plain": [
       "0        1.0698\n",
       "1      113.7600\n",
       "2        1.2485\n",
       "3        0.7554\n",
       "4        1.3112\n",
       "5        0.9951\n",
       "6      121.7000\n",
       "7        0.8569\n",
       "8        7.7583\n",
       "9        1.0645\n",
       "10    1176.0100\n",
       "Name: Value, dtype: float64"
      ]
     },
     "execution_count": 7,
     "metadata": {},
     "output_type": "execute_result"
    }
   ],
   "source": [
    "df['Value']   ## choose column use column name."
   ]
  },
  {
   "cell_type": "code",
   "execution_count": 8,
   "metadata": {
    "collapsed": false
   },
   "outputs": [
    {
     "data": {
      "text/plain": [
       "Currency      GBP-USD\n",
       "Value          1.2485\n",
       "Change         -0.007\n",
       "Net Change     -0.56%\n",
       "Time (EST)    4:27 PM\n",
       "2 Day             NaN\n",
       "Name: 2, dtype: object"
      ]
     },
     "execution_count": 8,
     "metadata": {},
     "output_type": "execute_result"
    }
   ],
   "source": [
    "df.loc[2]  ## choose certain row"
   ]
  },
  {
   "cell_type": "code",
   "execution_count": 9,
   "metadata": {
    "collapsed": false
   },
   "outputs": [
    {
     "data": {
      "text/plain": [
       "'-0.56%'"
      ]
     },
     "execution_count": 9,
     "metadata": {},
     "output_type": "execute_result"
    }
   ],
   "source": [
    "df.iloc[2,3]   ## choose certain cell like matlab"
   ]
  },
  {
   "cell_type": "markdown",
   "metadata": {},
   "source": [
    "<li>There are lots ways to choose value in pandas dataframe, you can look pandas website for more infromation.</li>"
   ]
  },
  {
   "cell_type": "markdown",
   "metadata": {},
   "source": [
    "## Google and Yahoo Finance\n",
    "<li>Use pandas you can access google and yahoo finance data fast and easy.</li>"
   ]
  },
  {
   "cell_type": "code",
   "execution_count": 10,
   "metadata": {
    "collapsed": false
   },
   "outputs": [
    {
     "data": {
      "text/html": [
       "<div>\n",
       "<table border=\"1\" class=\"dataframe\">\n",
       "  <thead>\n",
       "    <tr style=\"text-align: right;\">\n",
       "      <th></th>\n",
       "      <th>Open</th>\n",
       "      <th>High</th>\n",
       "      <th>Low</th>\n",
       "      <th>Close</th>\n",
       "      <th>Volume</th>\n",
       "      <th>Adj Close</th>\n",
       "    </tr>\n",
       "    <tr>\n",
       "      <th>Date</th>\n",
       "      <th></th>\n",
       "      <th></th>\n",
       "      <th></th>\n",
       "      <th></th>\n",
       "      <th></th>\n",
       "      <th></th>\n",
       "    </tr>\n",
       "  </thead>\n",
       "  <tbody>\n",
       "    <tr>\n",
       "      <th>1980-12-12</th>\n",
       "      <td>28.750000</td>\n",
       "      <td>28.875000</td>\n",
       "      <td>28.750000</td>\n",
       "      <td>28.750000</td>\n",
       "      <td>117258400</td>\n",
       "      <td>0.426842</td>\n",
       "    </tr>\n",
       "    <tr>\n",
       "      <th>1980-12-15</th>\n",
       "      <td>27.375001</td>\n",
       "      <td>27.375001</td>\n",
       "      <td>27.250000</td>\n",
       "      <td>27.250000</td>\n",
       "      <td>43971200</td>\n",
       "      <td>0.404572</td>\n",
       "    </tr>\n",
       "    <tr>\n",
       "      <th>1980-12-16</th>\n",
       "      <td>25.375000</td>\n",
       "      <td>25.375000</td>\n",
       "      <td>25.250000</td>\n",
       "      <td>25.250000</td>\n",
       "      <td>26432000</td>\n",
       "      <td>0.374879</td>\n",
       "    </tr>\n",
       "    <tr>\n",
       "      <th>1980-12-17</th>\n",
       "      <td>25.875000</td>\n",
       "      <td>25.999999</td>\n",
       "      <td>25.875000</td>\n",
       "      <td>25.875000</td>\n",
       "      <td>21610400</td>\n",
       "      <td>0.384158</td>\n",
       "    </tr>\n",
       "    <tr>\n",
       "      <th>1980-12-18</th>\n",
       "      <td>26.625000</td>\n",
       "      <td>26.750000</td>\n",
       "      <td>26.625000</td>\n",
       "      <td>26.625000</td>\n",
       "      <td>18362400</td>\n",
       "      <td>0.395293</td>\n",
       "    </tr>\n",
       "    <tr>\n",
       "      <th>1980-12-19</th>\n",
       "      <td>28.249999</td>\n",
       "      <td>28.374999</td>\n",
       "      <td>28.249999</td>\n",
       "      <td>28.249999</td>\n",
       "      <td>12157600</td>\n",
       "      <td>0.419419</td>\n",
       "    </tr>\n",
       "    <tr>\n",
       "      <th>1980-12-22</th>\n",
       "      <td>29.625000</td>\n",
       "      <td>29.750000</td>\n",
       "      <td>29.625000</td>\n",
       "      <td>29.625000</td>\n",
       "      <td>9340800</td>\n",
       "      <td>0.439833</td>\n",
       "    </tr>\n",
       "    <tr>\n",
       "      <th>1980-12-23</th>\n",
       "      <td>30.874999</td>\n",
       "      <td>30.999999</td>\n",
       "      <td>30.874999</td>\n",
       "      <td>30.874999</td>\n",
       "      <td>11737600</td>\n",
       "      <td>0.458392</td>\n",
       "    </tr>\n",
       "    <tr>\n",
       "      <th>1980-12-24</th>\n",
       "      <td>32.500000</td>\n",
       "      <td>32.624999</td>\n",
       "      <td>32.500000</td>\n",
       "      <td>32.500000</td>\n",
       "      <td>12000800</td>\n",
       "      <td>0.482517</td>\n",
       "    </tr>\n",
       "    <tr>\n",
       "      <th>1980-12-26</th>\n",
       "      <td>35.500001</td>\n",
       "      <td>35.625001</td>\n",
       "      <td>35.500001</td>\n",
       "      <td>35.500001</td>\n",
       "      <td>13893600</td>\n",
       "      <td>0.527057</td>\n",
       "    </tr>\n",
       "    <tr>\n",
       "      <th>1980-12-29</th>\n",
       "      <td>36.000000</td>\n",
       "      <td>36.124999</td>\n",
       "      <td>36.000000</td>\n",
       "      <td>36.000000</td>\n",
       "      <td>23290400</td>\n",
       "      <td>0.534481</td>\n",
       "    </tr>\n",
       "    <tr>\n",
       "      <th>1980-12-30</th>\n",
       "      <td>35.249999</td>\n",
       "      <td>35.249999</td>\n",
       "      <td>35.125000</td>\n",
       "      <td>35.125000</td>\n",
       "      <td>17220000</td>\n",
       "      <td>0.521490</td>\n",
       "    </tr>\n",
       "    <tr>\n",
       "      <th>1980-12-31</th>\n",
       "      <td>34.250000</td>\n",
       "      <td>34.250000</td>\n",
       "      <td>34.125000</td>\n",
       "      <td>34.125000</td>\n",
       "      <td>8937600</td>\n",
       "      <td>0.506643</td>\n",
       "    </tr>\n",
       "    <tr>\n",
       "      <th>1981-01-02</th>\n",
       "      <td>34.499999</td>\n",
       "      <td>34.750001</td>\n",
       "      <td>34.499999</td>\n",
       "      <td>34.499999</td>\n",
       "      <td>5415200</td>\n",
       "      <td>0.512211</td>\n",
       "    </tr>\n",
       "    <tr>\n",
       "      <th>1981-01-05</th>\n",
       "      <td>33.875001</td>\n",
       "      <td>33.875001</td>\n",
       "      <td>33.750001</td>\n",
       "      <td>33.750001</td>\n",
       "      <td>8932000</td>\n",
       "      <td>0.501076</td>\n",
       "    </tr>\n",
       "    <tr>\n",
       "      <th>1981-01-06</th>\n",
       "      <td>32.375000</td>\n",
       "      <td>32.375000</td>\n",
       "      <td>32.250000</td>\n",
       "      <td>32.250000</td>\n",
       "      <td>11289600</td>\n",
       "      <td>0.478806</td>\n",
       "    </tr>\n",
       "    <tr>\n",
       "      <th>1981-01-07</th>\n",
       "      <td>30.999999</td>\n",
       "      <td>30.999999</td>\n",
       "      <td>30.874999</td>\n",
       "      <td>30.874999</td>\n",
       "      <td>13921600</td>\n",
       "      <td>0.458392</td>\n",
       "    </tr>\n",
       "    <tr>\n",
       "      <th>1981-01-08</th>\n",
       "      <td>30.375001</td>\n",
       "      <td>30.375001</td>\n",
       "      <td>30.250001</td>\n",
       "      <td>30.250001</td>\n",
       "      <td>9956800</td>\n",
       "      <td>0.449112</td>\n",
       "    </tr>\n",
       "    <tr>\n",
       "      <th>1981-01-09</th>\n",
       "      <td>31.874999</td>\n",
       "      <td>32.000001</td>\n",
       "      <td>31.874999</td>\n",
       "      <td>31.874999</td>\n",
       "      <td>5376000</td>\n",
       "      <td>0.473238</td>\n",
       "    </tr>\n",
       "    <tr>\n",
       "      <th>1981-01-12</th>\n",
       "      <td>31.874999</td>\n",
       "      <td>31.874999</td>\n",
       "      <td>31.625000</td>\n",
       "      <td>31.625000</td>\n",
       "      <td>5924800</td>\n",
       "      <td>0.469527</td>\n",
       "    </tr>\n",
       "    <tr>\n",
       "      <th>1981-01-13</th>\n",
       "      <td>30.625000</td>\n",
       "      <td>30.625000</td>\n",
       "      <td>30.500000</td>\n",
       "      <td>30.500000</td>\n",
       "      <td>5762400</td>\n",
       "      <td>0.452824</td>\n",
       "    </tr>\n",
       "    <tr>\n",
       "      <th>1981-01-14</th>\n",
       "      <td>30.625000</td>\n",
       "      <td>30.750000</td>\n",
       "      <td>30.625000</td>\n",
       "      <td>30.625000</td>\n",
       "      <td>3572800</td>\n",
       "      <td>0.454680</td>\n",
       "    </tr>\n",
       "    <tr>\n",
       "      <th>1981-01-15</th>\n",
       "      <td>31.250001</td>\n",
       "      <td>31.500000</td>\n",
       "      <td>31.250001</td>\n",
       "      <td>31.250001</td>\n",
       "      <td>3516800</td>\n",
       "      <td>0.463959</td>\n",
       "    </tr>\n",
       "    <tr>\n",
       "      <th>1981-01-16</th>\n",
       "      <td>31.125001</td>\n",
       "      <td>31.125001</td>\n",
       "      <td>30.999999</td>\n",
       "      <td>30.999999</td>\n",
       "      <td>3348800</td>\n",
       "      <td>0.460247</td>\n",
       "    </tr>\n",
       "    <tr>\n",
       "      <th>1981-01-19</th>\n",
       "      <td>32.875001</td>\n",
       "      <td>33.000001</td>\n",
       "      <td>32.875001</td>\n",
       "      <td>32.875001</td>\n",
       "      <td>10393600</td>\n",
       "      <td>0.488085</td>\n",
       "    </tr>\n",
       "    <tr>\n",
       "      <th>1981-01-20</th>\n",
       "      <td>32.000001</td>\n",
       "      <td>32.000001</td>\n",
       "      <td>31.874999</td>\n",
       "      <td>31.874999</td>\n",
       "      <td>7520800</td>\n",
       "      <td>0.473238</td>\n",
       "    </tr>\n",
       "    <tr>\n",
       "      <th>1981-01-21</th>\n",
       "      <td>32.500000</td>\n",
       "      <td>32.749999</td>\n",
       "      <td>32.500000</td>\n",
       "      <td>32.500000</td>\n",
       "      <td>3976000</td>\n",
       "      <td>0.482517</td>\n",
       "    </tr>\n",
       "    <tr>\n",
       "      <th>1981-01-22</th>\n",
       "      <td>32.875001</td>\n",
       "      <td>33.125000</td>\n",
       "      <td>32.875001</td>\n",
       "      <td>32.875001</td>\n",
       "      <td>8887200</td>\n",
       "      <td>0.488085</td>\n",
       "    </tr>\n",
       "    <tr>\n",
       "      <th>1981-01-23</th>\n",
       "      <td>32.875001</td>\n",
       "      <td>33.000001</td>\n",
       "      <td>32.749999</td>\n",
       "      <td>32.749999</td>\n",
       "      <td>2805600</td>\n",
       "      <td>0.486229</td>\n",
       "    </tr>\n",
       "    <tr>\n",
       "      <th>1981-01-26</th>\n",
       "      <td>32.375000</td>\n",
       "      <td>32.375000</td>\n",
       "      <td>32.250000</td>\n",
       "      <td>32.250000</td>\n",
       "      <td>6160000</td>\n",
       "      <td>0.478806</td>\n",
       "    </tr>\n",
       "    <tr>\n",
       "      <th>...</th>\n",
       "      <td>...</td>\n",
       "      <td>...</td>\n",
       "      <td>...</td>\n",
       "      <td>...</td>\n",
       "      <td>...</td>\n",
       "      <td>...</td>\n",
       "    </tr>\n",
       "    <tr>\n",
       "      <th>2016-12-14</th>\n",
       "      <td>115.040001</td>\n",
       "      <td>116.199997</td>\n",
       "      <td>114.980003</td>\n",
       "      <td>115.190002</td>\n",
       "      <td>33433200</td>\n",
       "      <td>115.190002</td>\n",
       "    </tr>\n",
       "    <tr>\n",
       "      <th>2016-12-15</th>\n",
       "      <td>115.379997</td>\n",
       "      <td>116.730003</td>\n",
       "      <td>115.230003</td>\n",
       "      <td>115.820000</td>\n",
       "      <td>46232200</td>\n",
       "      <td>115.820000</td>\n",
       "    </tr>\n",
       "    <tr>\n",
       "      <th>2016-12-16</th>\n",
       "      <td>116.470001</td>\n",
       "      <td>116.500000</td>\n",
       "      <td>115.650002</td>\n",
       "      <td>115.970001</td>\n",
       "      <td>44055400</td>\n",
       "      <td>115.970001</td>\n",
       "    </tr>\n",
       "    <tr>\n",
       "      <th>2016-12-19</th>\n",
       "      <td>115.800003</td>\n",
       "      <td>117.379997</td>\n",
       "      <td>115.750000</td>\n",
       "      <td>116.639999</td>\n",
       "      <td>27675400</td>\n",
       "      <td>116.639999</td>\n",
       "    </tr>\n",
       "    <tr>\n",
       "      <th>2016-12-20</th>\n",
       "      <td>116.739998</td>\n",
       "      <td>117.500000</td>\n",
       "      <td>116.680000</td>\n",
       "      <td>116.949997</td>\n",
       "      <td>20905800</td>\n",
       "      <td>116.949997</td>\n",
       "    </tr>\n",
       "    <tr>\n",
       "      <th>2016-12-21</th>\n",
       "      <td>116.800003</td>\n",
       "      <td>117.400002</td>\n",
       "      <td>116.779999</td>\n",
       "      <td>117.059998</td>\n",
       "      <td>24216900</td>\n",
       "      <td>117.059998</td>\n",
       "    </tr>\n",
       "    <tr>\n",
       "      <th>2016-12-22</th>\n",
       "      <td>116.349998</td>\n",
       "      <td>116.510002</td>\n",
       "      <td>115.639999</td>\n",
       "      <td>116.290001</td>\n",
       "      <td>25789800</td>\n",
       "      <td>116.290001</td>\n",
       "    </tr>\n",
       "    <tr>\n",
       "      <th>2016-12-23</th>\n",
       "      <td>115.589996</td>\n",
       "      <td>116.519997</td>\n",
       "      <td>115.589996</td>\n",
       "      <td>116.519997</td>\n",
       "      <td>14181200</td>\n",
       "      <td>116.519997</td>\n",
       "    </tr>\n",
       "    <tr>\n",
       "      <th>2016-12-27</th>\n",
       "      <td>116.519997</td>\n",
       "      <td>117.800003</td>\n",
       "      <td>116.489998</td>\n",
       "      <td>117.260002</td>\n",
       "      <td>18071900</td>\n",
       "      <td>117.260002</td>\n",
       "    </tr>\n",
       "    <tr>\n",
       "      <th>2016-12-28</th>\n",
       "      <td>117.519997</td>\n",
       "      <td>118.019997</td>\n",
       "      <td>116.199997</td>\n",
       "      <td>116.760002</td>\n",
       "      <td>20582000</td>\n",
       "      <td>116.760002</td>\n",
       "    </tr>\n",
       "    <tr>\n",
       "      <th>2016-12-29</th>\n",
       "      <td>116.449997</td>\n",
       "      <td>117.110001</td>\n",
       "      <td>116.400002</td>\n",
       "      <td>116.730003</td>\n",
       "      <td>14963300</td>\n",
       "      <td>116.730003</td>\n",
       "    </tr>\n",
       "    <tr>\n",
       "      <th>2016-12-30</th>\n",
       "      <td>116.650002</td>\n",
       "      <td>117.199997</td>\n",
       "      <td>115.430000</td>\n",
       "      <td>115.820000</td>\n",
       "      <td>30253100</td>\n",
       "      <td>115.820000</td>\n",
       "    </tr>\n",
       "    <tr>\n",
       "      <th>2017-01-03</th>\n",
       "      <td>115.800003</td>\n",
       "      <td>116.330002</td>\n",
       "      <td>114.760002</td>\n",
       "      <td>116.150002</td>\n",
       "      <td>28509500</td>\n",
       "      <td>116.150002</td>\n",
       "    </tr>\n",
       "    <tr>\n",
       "      <th>2017-01-04</th>\n",
       "      <td>115.849998</td>\n",
       "      <td>116.510002</td>\n",
       "      <td>115.750000</td>\n",
       "      <td>116.019997</td>\n",
       "      <td>20858700</td>\n",
       "      <td>116.019997</td>\n",
       "    </tr>\n",
       "    <tr>\n",
       "      <th>2017-01-05</th>\n",
       "      <td>115.919998</td>\n",
       "      <td>116.860001</td>\n",
       "      <td>115.809998</td>\n",
       "      <td>116.610001</td>\n",
       "      <td>22103700</td>\n",
       "      <td>116.610001</td>\n",
       "    </tr>\n",
       "    <tr>\n",
       "      <th>2017-01-06</th>\n",
       "      <td>116.779999</td>\n",
       "      <td>118.160004</td>\n",
       "      <td>116.470001</td>\n",
       "      <td>117.910004</td>\n",
       "      <td>31577900</td>\n",
       "      <td>117.910004</td>\n",
       "    </tr>\n",
       "    <tr>\n",
       "      <th>2017-01-09</th>\n",
       "      <td>117.949997</td>\n",
       "      <td>119.430000</td>\n",
       "      <td>117.940002</td>\n",
       "      <td>118.989998</td>\n",
       "      <td>33387600</td>\n",
       "      <td>118.989998</td>\n",
       "    </tr>\n",
       "    <tr>\n",
       "      <th>2017-01-10</th>\n",
       "      <td>118.769997</td>\n",
       "      <td>119.379997</td>\n",
       "      <td>118.300003</td>\n",
       "      <td>119.110001</td>\n",
       "      <td>24420800</td>\n",
       "      <td>119.110001</td>\n",
       "    </tr>\n",
       "    <tr>\n",
       "      <th>2017-01-11</th>\n",
       "      <td>118.739998</td>\n",
       "      <td>119.930000</td>\n",
       "      <td>118.599998</td>\n",
       "      <td>119.750000</td>\n",
       "      <td>27418600</td>\n",
       "      <td>119.750000</td>\n",
       "    </tr>\n",
       "    <tr>\n",
       "      <th>2017-01-12</th>\n",
       "      <td>118.900002</td>\n",
       "      <td>119.300003</td>\n",
       "      <td>118.209999</td>\n",
       "      <td>119.250000</td>\n",
       "      <td>27002400</td>\n",
       "      <td>119.250000</td>\n",
       "    </tr>\n",
       "    <tr>\n",
       "      <th>2017-01-13</th>\n",
       "      <td>119.110001</td>\n",
       "      <td>119.620003</td>\n",
       "      <td>118.809998</td>\n",
       "      <td>119.040001</td>\n",
       "      <td>25938300</td>\n",
       "      <td>119.040001</td>\n",
       "    </tr>\n",
       "    <tr>\n",
       "      <th>2017-01-17</th>\n",
       "      <td>118.339996</td>\n",
       "      <td>120.239998</td>\n",
       "      <td>118.220001</td>\n",
       "      <td>120.000000</td>\n",
       "      <td>34078600</td>\n",
       "      <td>120.000000</td>\n",
       "    </tr>\n",
       "    <tr>\n",
       "      <th>2017-01-18</th>\n",
       "      <td>120.000000</td>\n",
       "      <td>120.500000</td>\n",
       "      <td>119.709999</td>\n",
       "      <td>119.989998</td>\n",
       "      <td>23644700</td>\n",
       "      <td>119.989998</td>\n",
       "    </tr>\n",
       "    <tr>\n",
       "      <th>2017-01-19</th>\n",
       "      <td>119.400002</td>\n",
       "      <td>120.089996</td>\n",
       "      <td>119.370003</td>\n",
       "      <td>119.779999</td>\n",
       "      <td>25295700</td>\n",
       "      <td>119.779999</td>\n",
       "    </tr>\n",
       "    <tr>\n",
       "      <th>2017-01-20</th>\n",
       "      <td>120.449997</td>\n",
       "      <td>120.449997</td>\n",
       "      <td>119.730003</td>\n",
       "      <td>120.000000</td>\n",
       "      <td>29479900</td>\n",
       "      <td>120.000000</td>\n",
       "    </tr>\n",
       "    <tr>\n",
       "      <th>2017-01-23</th>\n",
       "      <td>120.000000</td>\n",
       "      <td>120.809998</td>\n",
       "      <td>119.769997</td>\n",
       "      <td>120.080002</td>\n",
       "      <td>21131400</td>\n",
       "      <td>120.080002</td>\n",
       "    </tr>\n",
       "    <tr>\n",
       "      <th>2017-01-24</th>\n",
       "      <td>119.550003</td>\n",
       "      <td>120.099998</td>\n",
       "      <td>119.500000</td>\n",
       "      <td>119.970001</td>\n",
       "      <td>23150200</td>\n",
       "      <td>119.970001</td>\n",
       "    </tr>\n",
       "    <tr>\n",
       "      <th>2017-01-25</th>\n",
       "      <td>120.419998</td>\n",
       "      <td>122.099998</td>\n",
       "      <td>120.279999</td>\n",
       "      <td>121.879997</td>\n",
       "      <td>32377600</td>\n",
       "      <td>121.879997</td>\n",
       "    </tr>\n",
       "    <tr>\n",
       "      <th>2017-01-26</th>\n",
       "      <td>121.669998</td>\n",
       "      <td>122.440002</td>\n",
       "      <td>121.599998</td>\n",
       "      <td>121.940002</td>\n",
       "      <td>26282000</td>\n",
       "      <td>121.940002</td>\n",
       "    </tr>\n",
       "    <tr>\n",
       "      <th>2017-01-27</th>\n",
       "      <td>122.139999</td>\n",
       "      <td>122.349998</td>\n",
       "      <td>121.599998</td>\n",
       "      <td>121.949997</td>\n",
       "      <td>20437400</td>\n",
       "      <td>121.949997</td>\n",
       "    </tr>\n",
       "  </tbody>\n",
       "</table>\n",
       "<p>9110 rows × 6 columns</p>\n",
       "</div>"
      ],
      "text/plain": [
       "                  Open        High         Low       Close     Volume  \\\n",
       "Date                                                                    \n",
       "1980-12-12   28.750000   28.875000   28.750000   28.750000  117258400   \n",
       "1980-12-15   27.375001   27.375001   27.250000   27.250000   43971200   \n",
       "1980-12-16   25.375000   25.375000   25.250000   25.250000   26432000   \n",
       "1980-12-17   25.875000   25.999999   25.875000   25.875000   21610400   \n",
       "1980-12-18   26.625000   26.750000   26.625000   26.625000   18362400   \n",
       "1980-12-19   28.249999   28.374999   28.249999   28.249999   12157600   \n",
       "1980-12-22   29.625000   29.750000   29.625000   29.625000    9340800   \n",
       "1980-12-23   30.874999   30.999999   30.874999   30.874999   11737600   \n",
       "1980-12-24   32.500000   32.624999   32.500000   32.500000   12000800   \n",
       "1980-12-26   35.500001   35.625001   35.500001   35.500001   13893600   \n",
       "1980-12-29   36.000000   36.124999   36.000000   36.000000   23290400   \n",
       "1980-12-30   35.249999   35.249999   35.125000   35.125000   17220000   \n",
       "1980-12-31   34.250000   34.250000   34.125000   34.125000    8937600   \n",
       "1981-01-02   34.499999   34.750001   34.499999   34.499999    5415200   \n",
       "1981-01-05   33.875001   33.875001   33.750001   33.750001    8932000   \n",
       "1981-01-06   32.375000   32.375000   32.250000   32.250000   11289600   \n",
       "1981-01-07   30.999999   30.999999   30.874999   30.874999   13921600   \n",
       "1981-01-08   30.375001   30.375001   30.250001   30.250001    9956800   \n",
       "1981-01-09   31.874999   32.000001   31.874999   31.874999    5376000   \n",
       "1981-01-12   31.874999   31.874999   31.625000   31.625000    5924800   \n",
       "1981-01-13   30.625000   30.625000   30.500000   30.500000    5762400   \n",
       "1981-01-14   30.625000   30.750000   30.625000   30.625000    3572800   \n",
       "1981-01-15   31.250001   31.500000   31.250001   31.250001    3516800   \n",
       "1981-01-16   31.125001   31.125001   30.999999   30.999999    3348800   \n",
       "1981-01-19   32.875001   33.000001   32.875001   32.875001   10393600   \n",
       "1981-01-20   32.000001   32.000001   31.874999   31.874999    7520800   \n",
       "1981-01-21   32.500000   32.749999   32.500000   32.500000    3976000   \n",
       "1981-01-22   32.875001   33.125000   32.875001   32.875001    8887200   \n",
       "1981-01-23   32.875001   33.000001   32.749999   32.749999    2805600   \n",
       "1981-01-26   32.375000   32.375000   32.250000   32.250000    6160000   \n",
       "...                ...         ...         ...         ...        ...   \n",
       "2016-12-14  115.040001  116.199997  114.980003  115.190002   33433200   \n",
       "2016-12-15  115.379997  116.730003  115.230003  115.820000   46232200   \n",
       "2016-12-16  116.470001  116.500000  115.650002  115.970001   44055400   \n",
       "2016-12-19  115.800003  117.379997  115.750000  116.639999   27675400   \n",
       "2016-12-20  116.739998  117.500000  116.680000  116.949997   20905800   \n",
       "2016-12-21  116.800003  117.400002  116.779999  117.059998   24216900   \n",
       "2016-12-22  116.349998  116.510002  115.639999  116.290001   25789800   \n",
       "2016-12-23  115.589996  116.519997  115.589996  116.519997   14181200   \n",
       "2016-12-27  116.519997  117.800003  116.489998  117.260002   18071900   \n",
       "2016-12-28  117.519997  118.019997  116.199997  116.760002   20582000   \n",
       "2016-12-29  116.449997  117.110001  116.400002  116.730003   14963300   \n",
       "2016-12-30  116.650002  117.199997  115.430000  115.820000   30253100   \n",
       "2017-01-03  115.800003  116.330002  114.760002  116.150002   28509500   \n",
       "2017-01-04  115.849998  116.510002  115.750000  116.019997   20858700   \n",
       "2017-01-05  115.919998  116.860001  115.809998  116.610001   22103700   \n",
       "2017-01-06  116.779999  118.160004  116.470001  117.910004   31577900   \n",
       "2017-01-09  117.949997  119.430000  117.940002  118.989998   33387600   \n",
       "2017-01-10  118.769997  119.379997  118.300003  119.110001   24420800   \n",
       "2017-01-11  118.739998  119.930000  118.599998  119.750000   27418600   \n",
       "2017-01-12  118.900002  119.300003  118.209999  119.250000   27002400   \n",
       "2017-01-13  119.110001  119.620003  118.809998  119.040001   25938300   \n",
       "2017-01-17  118.339996  120.239998  118.220001  120.000000   34078600   \n",
       "2017-01-18  120.000000  120.500000  119.709999  119.989998   23644700   \n",
       "2017-01-19  119.400002  120.089996  119.370003  119.779999   25295700   \n",
       "2017-01-20  120.449997  120.449997  119.730003  120.000000   29479900   \n",
       "2017-01-23  120.000000  120.809998  119.769997  120.080002   21131400   \n",
       "2017-01-24  119.550003  120.099998  119.500000  119.970001   23150200   \n",
       "2017-01-25  120.419998  122.099998  120.279999  121.879997   32377600   \n",
       "2017-01-26  121.669998  122.440002  121.599998  121.940002   26282000   \n",
       "2017-01-27  122.139999  122.349998  121.599998  121.949997   20437400   \n",
       "\n",
       "             Adj Close  \n",
       "Date                    \n",
       "1980-12-12    0.426842  \n",
       "1980-12-15    0.404572  \n",
       "1980-12-16    0.374879  \n",
       "1980-12-17    0.384158  \n",
       "1980-12-18    0.395293  \n",
       "1980-12-19    0.419419  \n",
       "1980-12-22    0.439833  \n",
       "1980-12-23    0.458392  \n",
       "1980-12-24    0.482517  \n",
       "1980-12-26    0.527057  \n",
       "1980-12-29    0.534481  \n",
       "1980-12-30    0.521490  \n",
       "1980-12-31    0.506643  \n",
       "1981-01-02    0.512211  \n",
       "1981-01-05    0.501076  \n",
       "1981-01-06    0.478806  \n",
       "1981-01-07    0.458392  \n",
       "1981-01-08    0.449112  \n",
       "1981-01-09    0.473238  \n",
       "1981-01-12    0.469527  \n",
       "1981-01-13    0.452824  \n",
       "1981-01-14    0.454680  \n",
       "1981-01-15    0.463959  \n",
       "1981-01-16    0.460247  \n",
       "1981-01-19    0.488085  \n",
       "1981-01-20    0.473238  \n",
       "1981-01-21    0.482517  \n",
       "1981-01-22    0.488085  \n",
       "1981-01-23    0.486229  \n",
       "1981-01-26    0.478806  \n",
       "...                ...  \n",
       "2016-12-14  115.190002  \n",
       "2016-12-15  115.820000  \n",
       "2016-12-16  115.970001  \n",
       "2016-12-19  116.639999  \n",
       "2016-12-20  116.949997  \n",
       "2016-12-21  117.059998  \n",
       "2016-12-22  116.290001  \n",
       "2016-12-23  116.519997  \n",
       "2016-12-27  117.260002  \n",
       "2016-12-28  116.760002  \n",
       "2016-12-29  116.730003  \n",
       "2016-12-30  115.820000  \n",
       "2017-01-03  116.150002  \n",
       "2017-01-04  116.019997  \n",
       "2017-01-05  116.610001  \n",
       "2017-01-06  117.910004  \n",
       "2017-01-09  118.989998  \n",
       "2017-01-10  119.110001  \n",
       "2017-01-11  119.750000  \n",
       "2017-01-12  119.250000  \n",
       "2017-01-13  119.040001  \n",
       "2017-01-17  120.000000  \n",
       "2017-01-18  119.989998  \n",
       "2017-01-19  119.779999  \n",
       "2017-01-20  120.000000  \n",
       "2017-01-23  120.080002  \n",
       "2017-01-24  119.970001  \n",
       "2017-01-25  121.879997  \n",
       "2017-01-26  121.940002  \n",
       "2017-01-27  121.949997  \n",
       "\n",
       "[9110 rows x 6 columns]"
      ]
     },
     "execution_count": 10,
     "metadata": {},
     "output_type": "execute_result"
    }
   ],
   "source": [
    "import datetime as dt\n",
    "start=dt.datetime(1980, 1, 1)\n",
    "end=dt.datetime.today()\n",
    "df = data.DataReader('AAPL', 'yahoo', start, end)    ## all stock data for Apple from 1980 to now. Using yahoo finance data.\n",
    "df"
   ]
  },
  {
   "cell_type": "code",
   "execution_count": 11,
   "metadata": {
    "collapsed": false
   },
   "outputs": [
    {
     "data": {
      "text/plain": [
       "<matplotlib.axes._subplots.AxesSubplot at 0x1161ab748>"
      ]
     },
     "execution_count": 11,
     "metadata": {},
     "output_type": "execute_result"
    },
    {
     "data": {
      "image/png": "[encoded data removed]",
      "text/plain": [
       "<matplotlib.figure.Figure at 0x115e1c080>"
      ]
     },
     "metadata": {},
     "output_type": "display_data"
    }
   ],
   "source": [
    "df[\"Close\"].plot()  ## Basic plot"
   ]
  },
  {
   "cell_type": "code",
   "execution_count": 12,
   "metadata": {
    "collapsed": false
   },
   "outputs": [
    {
     "data": {
      "text/html": [
       "<div>\n",
       "<table border=\"1\" class=\"dataframe\">\n",
       "  <thead>\n",
       "    <tr style=\"text-align: right;\">\n",
       "      <th></th>\n",
       "      <th>GDP</th>\n",
       "    </tr>\n",
       "    <tr>\n",
       "      <th>DATE</th>\n",
       "      <th></th>\n",
       "    </tr>\n",
       "  </thead>\n",
       "  <tbody>\n",
       "    <tr>\n",
       "      <th>2010-01-01</th>\n",
       "      <td>14681.1</td>\n",
       "    </tr>\n",
       "    <tr>\n",
       "      <th>2010-04-01</th>\n",
       "      <td>14888.6</td>\n",
       "    </tr>\n",
       "    <tr>\n",
       "      <th>2010-07-01</th>\n",
       "      <td>15057.7</td>\n",
       "    </tr>\n",
       "    <tr>\n",
       "      <th>2010-10-01</th>\n",
       "      <td>15230.2</td>\n",
       "    </tr>\n",
       "    <tr>\n",
       "      <th>2011-01-01</th>\n",
       "      <td>15238.4</td>\n",
       "    </tr>\n",
       "    <tr>\n",
       "      <th>2011-04-01</th>\n",
       "      <td>15460.9</td>\n",
       "    </tr>\n",
       "    <tr>\n",
       "      <th>2011-07-01</th>\n",
       "      <td>15587.1</td>\n",
       "    </tr>\n",
       "    <tr>\n",
       "      <th>2011-10-01</th>\n",
       "      <td>15785.3</td>\n",
       "    </tr>\n",
       "    <tr>\n",
       "      <th>2012-01-01</th>\n",
       "      <td>15973.9</td>\n",
       "    </tr>\n",
       "    <tr>\n",
       "      <th>2012-04-01</th>\n",
       "      <td>16121.9</td>\n",
       "    </tr>\n",
       "    <tr>\n",
       "      <th>2012-07-01</th>\n",
       "      <td>16227.9</td>\n",
       "    </tr>\n",
       "    <tr>\n",
       "      <th>2012-10-01</th>\n",
       "      <td>16297.3</td>\n",
       "    </tr>\n",
       "    <tr>\n",
       "      <th>2013-01-01</th>\n",
       "      <td>16475.4</td>\n",
       "    </tr>\n",
       "    <tr>\n",
       "      <th>2013-04-01</th>\n",
       "      <td>16541.4</td>\n",
       "    </tr>\n",
       "    <tr>\n",
       "      <th>2013-07-01</th>\n",
       "      <td>16749.3</td>\n",
       "    </tr>\n",
       "    <tr>\n",
       "      <th>2013-10-01</th>\n",
       "      <td>16999.9</td>\n",
       "    </tr>\n",
       "    <tr>\n",
       "      <th>2014-01-01</th>\n",
       "      <td>17025.2</td>\n",
       "    </tr>\n",
       "    <tr>\n",
       "      <th>2014-04-01</th>\n",
       "      <td>17285.6</td>\n",
       "    </tr>\n",
       "    <tr>\n",
       "      <th>2014-07-01</th>\n",
       "      <td>17569.4</td>\n",
       "    </tr>\n",
       "    <tr>\n",
       "      <th>2014-10-01</th>\n",
       "      <td>17692.2</td>\n",
       "    </tr>\n",
       "    <tr>\n",
       "      <th>2015-01-01</th>\n",
       "      <td>17783.6</td>\n",
       "    </tr>\n",
       "    <tr>\n",
       "      <th>2015-04-01</th>\n",
       "      <td>17998.3</td>\n",
       "    </tr>\n",
       "    <tr>\n",
       "      <th>2015-07-01</th>\n",
       "      <td>18141.9</td>\n",
       "    </tr>\n",
       "    <tr>\n",
       "      <th>2015-10-01</th>\n",
       "      <td>18222.8</td>\n",
       "    </tr>\n",
       "    <tr>\n",
       "      <th>2016-01-01</th>\n",
       "      <td>18281.6</td>\n",
       "    </tr>\n",
       "    <tr>\n",
       "      <th>2016-04-01</th>\n",
       "      <td>18450.1</td>\n",
       "    </tr>\n",
       "    <tr>\n",
       "      <th>2016-07-01</th>\n",
       "      <td>18675.3</td>\n",
       "    </tr>\n",
       "    <tr>\n",
       "      <th>2016-10-01</th>\n",
       "      <td>18860.8</td>\n",
       "    </tr>\n",
       "  </tbody>\n",
       "</table>\n",
       "</div>"
      ],
      "text/plain": [
       "                GDP\n",
       "DATE               \n",
       "2010-01-01  14681.1\n",
       "2010-04-01  14888.6\n",
       "2010-07-01  15057.7\n",
       "2010-10-01  15230.2\n",
       "2011-01-01  15238.4\n",
       "2011-04-01  15460.9\n",
       "2011-07-01  15587.1\n",
       "2011-10-01  15785.3\n",
       "2012-01-01  15973.9\n",
       "2012-04-01  16121.9\n",
       "2012-07-01  16227.9\n",
       "2012-10-01  16297.3\n",
       "2013-01-01  16475.4\n",
       "2013-04-01  16541.4\n",
       "2013-07-01  16749.3\n",
       "2013-10-01  16999.9\n",
       "2014-01-01  17025.2\n",
       "2014-04-01  17285.6\n",
       "2014-07-01  17569.4\n",
       "2014-10-01  17692.2\n",
       "2015-01-01  17783.6\n",
       "2015-04-01  17998.3\n",
       "2015-07-01  18141.9\n",
       "2015-10-01  18222.8\n",
       "2016-01-01  18281.6\n",
       "2016-04-01  18450.1\n",
       "2016-07-01  18675.3\n",
       "2016-10-01  18860.8"
      ]
     },
     "execution_count": 12,
     "metadata": {},
     "output_type": "execute_result"
    }
   ],
   "source": [
    "start = dt.datetime(2010, 1, 1)\n",
    "end = dt.datetime(2017, 1, 1)\n",
    "gdp=data.DataReader('GDP', \"fred\", start, end)  ## get GDP data from the Fed Reserve System.\n",
    "gdp"
   ]
  },
  {
   "cell_type": "code",
   "execution_count": 47,
   "metadata": {
    "collapsed": false
   },
   "outputs": [
    {
     "data": {
      "text/plain": [
       "<matplotlib.axes._subplots.AxesSubplot at 0x116d7ba20>"
      ]
     },
     "execution_count": 47,
     "metadata": {},
     "output_type": "execute_result"
    },
    {
     "data": {
      "image/png": "[encoded data removed]",
      "text/plain": [
       "<matplotlib.figure.Figure at 0x116a1c7b8>"
      ]
     },
     "metadata": {},
     "output_type": "display_data"
    }
   ],
   "source": [
    "gdp.plot()  ## Basic plot"
   ]
  }
 ],
 "metadata": {
  "anaconda-cloud": {},
  "kernelspec": {
   "display_name": "Python [default]",
   "language": "python",
   "name": "python3"
  },
  "language_info": {
   "codemirror_mode": {
    "name": "ipython",
    "version": 3
   },
   "file_extension": ".py",
   "mimetype": "text/x-python",
   "name": "python",
   "nbconvert_exporter": "python",
   "pygments_lexer": "ipython3",
   "version": "3.5.2"
  }
 },
 "nbformat": 4,
 "nbformat_minor": 1
}
